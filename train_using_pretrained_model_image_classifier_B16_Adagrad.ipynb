{
 "cells": [
  {
   "cell_type": "code",
   "execution_count": 1,
   "id": "1fb1c10e",
   "metadata": {},
   "outputs": [],
   "source": [
    "import matplotlib.pyplot as plt\n",
    "import torch\n",
    "import torchvision\n",
    "\n",
    "from torch import nn\n",
    "from torchvision import transforms\n",
    "from helper_functions import set_seeds"
   ]
  },
  {
   "cell_type": "code",
   "execution_count": 2,
   "id": "12e97c71",
   "metadata": {},
   "outputs": [
    {
     "data": {
      "text/plain": [
       "'cuda'"
      ]
     },
     "execution_count": 2,
     "metadata": {},
     "output_type": "execute_result"
    }
   ],
   "source": [
    "device = \"cuda\" if torch.cuda.is_available() else \"cpu\"\n",
    "device"
   ]
  },
  {
   "cell_type": "code",
   "execution_count": 3,
   "id": "0de25b1a",
   "metadata": {},
   "outputs": [
    {
     "name": "stdout",
     "output_type": "stream",
     "text": [
      "<generator object Module.parameters at 0x000001A930BBDF90>\n"
     ]
    }
   ],
   "source": [
    "# 1. Get pretrained weights for ViT-Base\n",
    "pretrained_vit_weights = torchvision.models.ViT_B_16_Weights.DEFAULT \n",
    "\n",
    "# 2. Setup a ViT model instance with pretrained weights\n",
    "pretrained_vit = torchvision.models.vit_b_16(weights=pretrained_vit_weights).to(device)\n",
    "\n",
    "# 3. Freeze the base parameters\n",
    "for parameter in pretrained_vit.parameters():\n",
    "    parameter.requires_grad = False\n",
    "    \n",
    "print(pretrained_vit.parameters())\n",
    "\n",
    "# 4. Change the classifier head \n",
    "class_names = ['benign','malignant']\n",
    "\n",
    "set_seeds()\n",
    "pretrained_vit.heads = nn.Linear(in_features=768, out_features=len(class_names)).to(device)\n",
    "# pretrained_vit # uncomment for model output "
   ]
  },
  {
   "cell_type": "code",
   "execution_count": 4,
   "id": "e3feaa42",
   "metadata": {},
   "outputs": [
    {
     "data": {
      "text/plain": [
       "============================================================================================================================================\n",
       "Layer (type (var_name))                                      Input Shape          Output Shape         Param #              Trainable\n",
       "============================================================================================================================================\n",
       "VisionTransformer (VisionTransformer)                        [32, 3, 224, 224]    [32, 2]              768                  Partial\n",
       "├─Conv2d (conv_proj)                                         [32, 3, 224, 224]    [32, 768, 14, 14]    (590,592)            False\n",
       "├─Encoder (encoder)                                          [32, 197, 768]       [32, 197, 768]       151,296              False\n",
       "│    └─Dropout (dropout)                                     [32, 197, 768]       [32, 197, 768]       --                   --\n",
       "│    └─Sequential (layers)                                   [32, 197, 768]       [32, 197, 768]       --                   False\n",
       "│    │    └─EncoderBlock (encoder_layer_0)                   [32, 197, 768]       [32, 197, 768]       (7,087,872)          False\n",
       "│    │    └─EncoderBlock (encoder_layer_1)                   [32, 197, 768]       [32, 197, 768]       (7,087,872)          False\n",
       "│    │    └─EncoderBlock (encoder_layer_2)                   [32, 197, 768]       [32, 197, 768]       (7,087,872)          False\n",
       "│    │    └─EncoderBlock (encoder_layer_3)                   [32, 197, 768]       [32, 197, 768]       (7,087,872)          False\n",
       "│    │    └─EncoderBlock (encoder_layer_4)                   [32, 197, 768]       [32, 197, 768]       (7,087,872)          False\n",
       "│    │    └─EncoderBlock (encoder_layer_5)                   [32, 197, 768]       [32, 197, 768]       (7,087,872)          False\n",
       "│    │    └─EncoderBlock (encoder_layer_6)                   [32, 197, 768]       [32, 197, 768]       (7,087,872)          False\n",
       "│    │    └─EncoderBlock (encoder_layer_7)                   [32, 197, 768]       [32, 197, 768]       (7,087,872)          False\n",
       "│    │    └─EncoderBlock (encoder_layer_8)                   [32, 197, 768]       [32, 197, 768]       (7,087,872)          False\n",
       "│    │    └─EncoderBlock (encoder_layer_9)                   [32, 197, 768]       [32, 197, 768]       (7,087,872)          False\n",
       "│    │    └─EncoderBlock (encoder_layer_10)                  [32, 197, 768]       [32, 197, 768]       (7,087,872)          False\n",
       "│    │    └─EncoderBlock (encoder_layer_11)                  [32, 197, 768]       [32, 197, 768]       (7,087,872)          False\n",
       "│    └─LayerNorm (ln)                                        [32, 197, 768]       [32, 197, 768]       (1,536)              False\n",
       "├─Linear (heads)                                             [32, 768]            [32, 2]              1,538                True\n",
       "============================================================================================================================================\n",
       "Total params: 85,800,194\n",
       "Trainable params: 1,538\n",
       "Non-trainable params: 85,798,656\n",
       "Total mult-adds (G): 5.52\n",
       "============================================================================================================================================\n",
       "Input size (MB): 19.27\n",
       "Forward/backward pass size (MB): 3330.74\n",
       "Params size (MB): 229.20\n",
       "Estimated Total Size (MB): 3579.20\n",
       "============================================================================================================================================"
      ]
     },
     "execution_count": 4,
     "metadata": {},
     "output_type": "execute_result"
    }
   ],
   "source": [
    "from torchinfo import summary\n",
    "\n",
    "# Print a summary using torchinfo (uncomment for actual output)\n",
    "summary(model=pretrained_vit, \n",
    "        input_size=(32, 3, 224, 224), # (batch_size, color_channels, height, width)\n",
    "        # col_names=[\"input_size\"], # uncomment for smaller output\n",
    "        col_names=[\"input_size\", \"output_size\", \"num_params\", \"trainable\"],\n",
    "        col_width=20,\n",
    "        row_settings=[\"var_names\"]\n",
    ")"
   ]
  },
  {
   "cell_type": "markdown",
   "id": "c73ec300",
   "metadata": {},
   "source": [
    "#### Notice how only the output layer is trainable, where as, all of the rest of the layers are untrainable (frozen)."
   ]
  },
  {
   "cell_type": "code",
   "execution_count": 5,
   "id": "ac8cc699",
   "metadata": {},
   "outputs": [],
   "source": [
    "# Setup directory paths to train and test images\n",
    "train_dir = 'D:/Dataset 2 - Copy/train'\n",
    "test_dir = 'D:/Dataset 2 - Copy/test'"
   ]
  },
  {
   "cell_type": "markdown",
   "id": "91175306",
   "metadata": {},
   "source": [
    "Remember, if you're going to use a pretrained model, it's generally important to ensure your own custom data is transformed/formatted in the same way the data the original model was trained on."
   ]
  },
  {
   "cell_type": "code",
   "execution_count": 6,
   "id": "05aa777b",
   "metadata": {},
   "outputs": [
    {
     "name": "stdout",
     "output_type": "stream",
     "text": [
      "ImageClassification(\n",
      "    crop_size=[224]\n",
      "    resize_size=[256]\n",
      "    mean=[0.485, 0.456, 0.406]\n",
      "    std=[0.229, 0.224, 0.225]\n",
      "    interpolation=InterpolationMode.BILINEAR\n",
      ")\n"
     ]
    }
   ],
   "source": [
    "# Get automatic transforms from pretrained ViT weights\n",
    "pretrained_vit_transforms = pretrained_vit_weights.transforms()\n",
    "print(pretrained_vit_transforms)"
   ]
  },
  {
   "cell_type": "markdown",
   "id": "088971e6",
   "metadata": {},
   "source": [
    "## And now we've got transforms ready, we can turn our images into DataLoaders using the create_dataloaders()"
   ]
  },
  {
   "cell_type": "code",
   "execution_count": 7,
   "id": "5d49225b",
   "metadata": {},
   "outputs": [],
   "source": [
    "import os\n",
    "\n",
    "from torchvision import datasets, transforms\n",
    "from torch.utils.data import DataLoader\n",
    "\n",
    "NUM_WORKERS = os.cpu_count()\n",
    "\n",
    "def create_dataloaders(\n",
    "    train_dir: str, \n",
    "    test_dir: str, \n",
    "    transform: transforms.Compose, \n",
    "    batch_size: int, \n",
    "    num_workers: int=NUM_WORKERS\n",
    "):\n",
    "\n",
    "  # Use ImageFolder to create dataset(s)\n",
    "  train_data = datasets.ImageFolder(train_dir, transform=transform)\n",
    "  test_data = datasets.ImageFolder(test_dir, transform=transform)\n",
    "\n",
    "  # Get class names\n",
    "  class_names = train_data.classes\n",
    "\n",
    "  # Turn images into data loaders\n",
    "  train_dataloader = DataLoader(\n",
    "      train_data,\n",
    "      batch_size=batch_size,\n",
    "      shuffle=True,\n",
    "      num_workers=num_workers,\n",
    "      pin_memory=True,\n",
    "  )\n",
    "  test_dataloader = DataLoader(\n",
    "      test_data,\n",
    "      batch_size=batch_size,\n",
    "      shuffle=False,\n",
    "      num_workers=num_workers,\n",
    "      pin_memory=True,\n",
    "  )\n",
    "\n",
    "  return train_dataloader, test_dataloader, class_names"
   ]
  },
  {
   "cell_type": "code",
   "execution_count": 8,
   "id": "9037c8a5",
   "metadata": {},
   "outputs": [],
   "source": [
    "# Setup dataloaders\n",
    "train_dataloader_pretrained, test_dataloader_pretrained, class_names = create_dataloaders(train_dir=train_dir,\n",
    "                                                                                                     test_dir=test_dir,\n",
    "                                                                                                     transform=pretrained_vit_transforms,\n",
    "                                                                                                     batch_size=32) # Could increase if we had more samples, such as here: https://arxiv.org/abs/2205.01580 (there are other improvements there too...)\n"
   ]
  },
  {
   "cell_type": "code",
   "execution_count": 9,
   "id": "27a7f0a8",
   "metadata": {},
   "outputs": [
    {
     "name": "stdout",
     "output_type": "stream",
     "text": [
      "<torch.utils.data.dataloader.DataLoader object at 0x000001A94B691460>\n",
      "<torch.utils.data.dataloader.DataLoader object at 0x000001A94B691340>\n"
     ]
    }
   ],
   "source": [
    "print(train_dataloader_pretrained)\n",
    "print(test_dataloader_pretrained)"
   ]
  },
  {
   "cell_type": "code",
   "execution_count": 10,
   "id": "10c5ba74",
   "metadata": {},
   "outputs": [
    {
     "data": {
      "application/vnd.jupyter.widget-view+json": {
       "model_id": "2ae3018a5ca34ae5b93bf3238cf54397",
       "version_major": 2,
       "version_minor": 0
      },
      "text/plain": [
       "  0%|          | 0/25 [00:00<?, ?it/s]"
      ]
     },
     "metadata": {},
     "output_type": "display_data"
    },
    {
     "name": "stdout",
     "output_type": "stream",
     "text": [
      "Epoch: 1 | train_loss: 1.1831 | train_acc: 0.8067 | test_loss: 0.5641 | test_acc: 0.8560 | \n",
      "Epoch: 2 | train_loss: 0.4781 | train_acc: 0.8545 | test_loss: 0.5572 | test_acc: 0.8211 | \n",
      "Epoch: 3 | train_loss: 0.3709 | train_acc: 0.8662 | test_loss: 0.3578 | test_acc: 0.8631 | \n",
      "Epoch: 4 | train_loss: 0.2984 | train_acc: 0.8758 | test_loss: 0.2464 | test_acc: 0.8976 | \n",
      "Epoch: 5 | train_loss: 0.2915 | train_acc: 0.8767 | test_loss: 0.2846 | test_acc: 0.8826 | \n",
      "Epoch: 6 | train_loss: 0.2920 | train_acc: 0.8769 | test_loss: 0.2691 | test_acc: 0.8845 | \n",
      "Epoch: 7 | train_loss: 0.2467 | train_acc: 0.8950 | test_loss: 0.2244 | test_acc: 0.9097 | \n",
      "Epoch: 8 | train_loss: 0.2486 | train_acc: 0.8873 | test_loss: 0.2229 | test_acc: 0.9061 | \n",
      "Epoch: 9 | train_loss: 0.2419 | train_acc: 0.8963 | test_loss: 0.4638 | test_acc: 0.8107 | \n",
      "Epoch: 10 | train_loss: 0.2321 | train_acc: 0.9014 | test_loss: 0.2809 | test_acc: 0.8791 | \n",
      "Epoch: 11 | train_loss: 0.2198 | train_acc: 0.9012 | test_loss: 0.2202 | test_acc: 0.9052 | \n",
      "Epoch: 12 | train_loss: 0.2175 | train_acc: 0.9040 | test_loss: 0.4338 | test_acc: 0.8324 | \n",
      "Epoch: 13 | train_loss: 0.2087 | train_acc: 0.9049 | test_loss: 0.2192 | test_acc: 0.9157 | \n",
      "Epoch: 14 | train_loss: 0.2016 | train_acc: 0.9149 | test_loss: 0.2822 | test_acc: 0.8854 | \n",
      "Epoch: 15 | train_loss: 0.2014 | train_acc: 0.9093 | test_loss: 0.2262 | test_acc: 0.9134 | \n",
      "Epoch: 16 | train_loss: 0.1948 | train_acc: 0.9164 | test_loss: 0.2533 | test_acc: 0.8982 | \n",
      "Epoch: 17 | train_loss: 0.1918 | train_acc: 0.9147 | test_loss: 0.2128 | test_acc: 0.9223 | \n",
      "Epoch: 18 | train_loss: 0.1821 | train_acc: 0.9230 | test_loss: 0.2324 | test_acc: 0.9086 | \n",
      "Epoch: 19 | train_loss: 0.1873 | train_acc: 0.9215 | test_loss: 0.2232 | test_acc: 0.9148 | \n",
      "Epoch: 20 | train_loss: 0.1920 | train_acc: 0.9232 | test_loss: 0.2213 | test_acc: 0.9184 | \n",
      "Epoch: 21 | train_loss: 0.1831 | train_acc: 0.9230 | test_loss: 0.2186 | test_acc: 0.9145 | \n",
      "Epoch: 22 | train_loss: 0.1815 | train_acc: 0.9239 | test_loss: 0.2196 | test_acc: 0.9119 | \n",
      "Epoch: 23 | train_loss: 0.1755 | train_acc: 0.9255 | test_loss: 0.2214 | test_acc: 0.9148 | \n",
      "Epoch: 24 | train_loss: 0.1723 | train_acc: 0.9226 | test_loss: 0.2116 | test_acc: 0.9232 | \n",
      "Epoch: 25 | train_loss: 0.1661 | train_acc: 0.9317 | test_loss: 0.2090 | test_acc: 0.9184 | \n"
     ]
    }
   ],
   "source": [
    "from going_modular.going_modular import engine\n",
    "\n",
    "# Create optimizer and loss function\n",
    "optimizer = torch.optim.Adagrad(params=pretrained_vit.parameters(), lr=1e-1)\n",
    "\n",
    "loss_fn = torch.nn.CrossEntropyLoss()\n",
    "\n",
    "# Train the classifier head of the pretrained ViT feature extractor model\n",
    "set_seeds()\n",
    "\n",
    "pretrained_vit_results = engine.train(model=pretrained_vit,\n",
    "                                      train_dataloader=train_dataloader_pretrained,\n",
    "                                      test_dataloader=test_dataloader_pretrained,\n",
    "                                      optimizer=optimizer,\n",
    "                                      loss_fn=loss_fn,\n",
    "                                      epochs=25,\n",
    "                                      device=device)"
   ]
  },
  {
   "cell_type": "markdown",
   "id": "945149b4",
   "metadata": {},
   "source": [
    "pretrained ViT performed far better than our custom ViT model trained from scratch (in the same amount of time).\n"
   ]
  },
  {
   "cell_type": "code",
   "execution_count": 11,
   "id": "2aae16a8",
   "metadata": {},
   "outputs": [
    {
     "data": {
      "image/png": "[encoded data removed]",
      "text/plain": [
       "<Figure size 1500x700 with 2 Axes>"
      ]
     },
     "metadata": {},
     "output_type": "display_data"
    }
   ],
   "source": [
    "\n",
    "for k,v in pretrained_vit_results.items():\n",
    "    if k[-1]==\"s\":\n",
    "        v.insert(0,1)\n",
    "    else:\n",
    "        v.insert(0,0)\n",
    "# Plot the loss curves\n",
    "from helper_functions import plot_loss_curves\n",
    "\n",
    "plot_loss_curves(pretrained_vit_results) "
   ]
  },
  {
   "cell_type": "code",
   "execution_count": 21,
   "id": "067ed41b",
   "metadata": {},
   "outputs": [
    {
     "data": {
      "text/html": [
       "<div>\n",
       "<style scoped>\n",
       "    .dataframe tbody tr th:only-of-type {\n",
       "        vertical-align: middle;\n",
       "    }\n",
       "\n",
       "    .dataframe tbody tr th {\n",
       "        vertical-align: top;\n",
       "    }\n",
       "\n",
       "    .dataframe thead th {\n",
       "        text-align: right;\n",
       "    }\n",
       "</style>\n",
       "<table border=\"1\" class=\"dataframe\">\n",
       "  <thead>\n",
       "    <tr style=\"text-align: right;\">\n",
       "      <th></th>\n",
       "      <th>train_loss</th>\n",
       "      <th>train_acc</th>\n",
       "      <th>test_loss</th>\n",
       "      <th>test_acc</th>\n",
       "    </tr>\n",
       "  </thead>\n",
       "  <tbody>\n",
       "    <tr>\n",
       "      <th>0</th>\n",
       "      <td>1.000000</td>\n",
       "      <td>0.000000</td>\n",
       "      <td>1.000000</td>\n",
       "      <td>0.000000</td>\n",
       "    </tr>\n",
       "    <tr>\n",
       "      <th>1</th>\n",
       "      <td>1.183115</td>\n",
       "      <td>0.806679</td>\n",
       "      <td>0.564075</td>\n",
       "      <td>0.855997</td>\n",
       "    </tr>\n",
       "    <tr>\n",
       "      <th>2</th>\n",
       "      <td>0.478114</td>\n",
       "      <td>0.854524</td>\n",
       "      <td>0.557205</td>\n",
       "      <td>0.821149</td>\n",
       "    </tr>\n",
       "    <tr>\n",
       "      <th>3</th>\n",
       "      <td>0.370889</td>\n",
       "      <td>0.866167</td>\n",
       "      <td>0.357783</td>\n",
       "      <td>0.863068</td>\n",
       "    </tr>\n",
       "    <tr>\n",
       "      <th>4</th>\n",
       "      <td>0.298428</td>\n",
       "      <td>0.875753</td>\n",
       "      <td>0.246363</td>\n",
       "      <td>0.897601</td>\n",
       "    </tr>\n",
       "    <tr>\n",
       "      <th>5</th>\n",
       "      <td>0.291530</td>\n",
       "      <td>0.876709</td>\n",
       "      <td>0.284635</td>\n",
       "      <td>0.882576</td>\n",
       "    </tr>\n",
       "    <tr>\n",
       "      <th>6</th>\n",
       "      <td>0.291965</td>\n",
       "      <td>0.876911</td>\n",
       "      <td>0.269125</td>\n",
       "      <td>0.884470</td>\n",
       "    </tr>\n",
       "    <tr>\n",
       "      <th>7</th>\n",
       "      <td>0.246669</td>\n",
       "      <td>0.894955</td>\n",
       "      <td>0.224414</td>\n",
       "      <td>0.909722</td>\n",
       "    </tr>\n",
       "    <tr>\n",
       "      <th>8</th>\n",
       "      <td>0.248628</td>\n",
       "      <td>0.887280</td>\n",
       "      <td>0.222924</td>\n",
       "      <td>0.906061</td>\n",
       "    </tr>\n",
       "    <tr>\n",
       "      <th>9</th>\n",
       "      <td>0.241919</td>\n",
       "      <td>0.896316</td>\n",
       "      <td>0.463819</td>\n",
       "      <td>0.810732</td>\n",
       "    </tr>\n",
       "    <tr>\n",
       "      <th>10</th>\n",
       "      <td>0.232133</td>\n",
       "      <td>0.901384</td>\n",
       "      <td>0.280927</td>\n",
       "      <td>0.879104</td>\n",
       "    </tr>\n",
       "    <tr>\n",
       "      <th>11</th>\n",
       "      <td>0.219752</td>\n",
       "      <td>0.901182</td>\n",
       "      <td>0.220173</td>\n",
       "      <td>0.905177</td>\n",
       "    </tr>\n",
       "    <tr>\n",
       "      <th>12</th>\n",
       "      <td>0.217531</td>\n",
       "      <td>0.904020</td>\n",
       "      <td>0.433751</td>\n",
       "      <td>0.832386</td>\n",
       "    </tr>\n",
       "    <tr>\n",
       "      <th>13</th>\n",
       "      <td>0.208718</td>\n",
       "      <td>0.904947</td>\n",
       "      <td>0.219216</td>\n",
       "      <td>0.915657</td>\n",
       "    </tr>\n",
       "    <tr>\n",
       "      <th>14</th>\n",
       "      <td>0.201550</td>\n",
       "      <td>0.914939</td>\n",
       "      <td>0.282153</td>\n",
       "      <td>0.885417</td>\n",
       "    </tr>\n",
       "    <tr>\n",
       "      <th>15</th>\n",
       "      <td>0.201440</td>\n",
       "      <td>0.909291</td>\n",
       "      <td>0.226223</td>\n",
       "      <td>0.913447</td>\n",
       "    </tr>\n",
       "    <tr>\n",
       "      <th>16</th>\n",
       "      <td>0.194848</td>\n",
       "      <td>0.916445</td>\n",
       "      <td>0.253340</td>\n",
       "      <td>0.898232</td>\n",
       "    </tr>\n",
       "    <tr>\n",
       "      <th>17</th>\n",
       "      <td>0.191837</td>\n",
       "      <td>0.914736</td>\n",
       "      <td>0.212793</td>\n",
       "      <td>0.922348</td>\n",
       "    </tr>\n",
       "    <tr>\n",
       "      <th>18</th>\n",
       "      <td>0.182110</td>\n",
       "      <td>0.923019</td>\n",
       "      <td>0.232411</td>\n",
       "      <td>0.908649</td>\n",
       "    </tr>\n",
       "    <tr>\n",
       "      <th>19</th>\n",
       "      <td>0.187301</td>\n",
       "      <td>0.921513</td>\n",
       "      <td>0.223171</td>\n",
       "      <td>0.914773</td>\n",
       "    </tr>\n",
       "    <tr>\n",
       "      <th>20</th>\n",
       "      <td>0.191991</td>\n",
       "      <td>0.923222</td>\n",
       "      <td>0.221255</td>\n",
       "      <td>0.918434</td>\n",
       "    </tr>\n",
       "    <tr>\n",
       "      <th>21</th>\n",
       "      <td>0.183148</td>\n",
       "      <td>0.923019</td>\n",
       "      <td>0.218610</td>\n",
       "      <td>0.914457</td>\n",
       "    </tr>\n",
       "    <tr>\n",
       "      <th>22</th>\n",
       "      <td>0.181550</td>\n",
       "      <td>0.923946</td>\n",
       "      <td>0.219582</td>\n",
       "      <td>0.911932</td>\n",
       "    </tr>\n",
       "    <tr>\n",
       "      <th>23</th>\n",
       "      <td>0.175465</td>\n",
       "      <td>0.925452</td>\n",
       "      <td>0.221408</td>\n",
       "      <td>0.914773</td>\n",
       "    </tr>\n",
       "    <tr>\n",
       "      <th>24</th>\n",
       "      <td>0.172330</td>\n",
       "      <td>0.922642</td>\n",
       "      <td>0.211621</td>\n",
       "      <td>0.923232</td>\n",
       "    </tr>\n",
       "    <tr>\n",
       "      <th>25</th>\n",
       "      <td>0.166065</td>\n",
       "      <td>0.931679</td>\n",
       "      <td>0.209039</td>\n",
       "      <td>0.918434</td>\n",
       "    </tr>\n",
       "  </tbody>\n",
       "</table>\n",
       "</div>"
      ],
      "text/plain": [
       "    train_loss  train_acc  test_loss  test_acc\n",
       "0     1.000000   0.000000   1.000000  0.000000\n",
       "1     1.183115   0.806679   0.564075  0.855997\n",
       "2     0.478114   0.854524   0.557205  0.821149\n",
       "3     0.370889   0.866167   0.357783  0.863068\n",
       "4     0.298428   0.875753   0.246363  0.897601\n",
       "5     0.291530   0.876709   0.284635  0.882576\n",
       "6     0.291965   0.876911   0.269125  0.884470\n",
       "7     0.246669   0.894955   0.224414  0.909722\n",
       "8     0.248628   0.887280   0.222924  0.906061\n",
       "9     0.241919   0.896316   0.463819  0.810732\n",
       "10    0.232133   0.901384   0.280927  0.879104\n",
       "11    0.219752   0.901182   0.220173  0.905177\n",
       "12    0.217531   0.904020   0.433751  0.832386\n",
       "13    0.208718   0.904947   0.219216  0.915657\n",
       "14    0.201550   0.914939   0.282153  0.885417\n",
       "15    0.201440   0.909291   0.226223  0.913447\n",
       "16    0.194848   0.916445   0.253340  0.898232\n",
       "17    0.191837   0.914736   0.212793  0.922348\n",
       "18    0.182110   0.923019   0.232411  0.908649\n",
       "19    0.187301   0.921513   0.223171  0.914773\n",
       "20    0.191991   0.923222   0.221255  0.918434\n",
       "21    0.183148   0.923019   0.218610  0.914457\n",
       "22    0.181550   0.923946   0.219582  0.911932\n",
       "23    0.175465   0.925452   0.221408  0.914773\n",
       "24    0.172330   0.922642   0.211621  0.923232\n",
       "25    0.166065   0.931679   0.209039  0.918434"
      ]
     },
     "metadata": {},
     "output_type": "display_data"
    }
   ],
   "source": [
    "import pandas\n",
    "dataframe = pandas.DataFrame(pretrained_vit_results)\n",
    "display(dataframe)\n",
    "dataframe.to_csv(\"B16_25epochs_Adagrad.csv\")"
   ]
  },
  {
   "cell_type": "markdown",
   "id": "79922fd1",
   "metadata": {},
   "source": [
    "## That's the power of transfer learning!\n",
    "\n",
    "We managed to get outstanding results with the same model architecture, except our custom implementation was trained from scratch (worse performance) and this feature extractor model has the power of pretrained weights from ImageNet behind it."
   ]
  },
  {
   "cell_type": "markdown",
   "id": "6ce4427b",
   "metadata": {},
   "source": [
    "# Let's make Prediction:"
   ]
  },
  {
   "cell_type": "code",
   "execution_count": 13,
   "id": "fe89b4e9",
   "metadata": {},
   "outputs": [
    {
     "name": "stdout",
     "output_type": "stream",
     "text": [
      "tensor([1], device='cuda:0')\n"
     ]
    }
   ],
   "source": [
    "import requests\n",
    "\n",
    "# Import function to make predictions on images and plot them \n",
    "from going_modular.going_modular.predictions import pred_and_plot_image\n",
    "\n",
    "# Setup custom image path\n",
    "custom_image_path = \"D:/Dataset 2/test/benign/2.jpg\"\n",
    "\n",
    "# Predict on custom image\n",
    "temp = pred_and_plot_image(model=pretrained_vit,\n",
    "                    image_path=custom_image_path,\n",
    "                    class_names=class_names)\n",
    "\n",
    "print(temp)"
   ]
  },
  {
   "cell_type": "code",
   "execution_count": 14,
   "id": "1fcf116a",
   "metadata": {},
   "outputs": [],
   "source": [
    "if temp[0]==0:\n",
    "    print(\"HELLO\")"
   ]
  },
  {
   "cell_type": "code",
   "execution_count": 15,
   "id": "5e7d64d0",
   "metadata": {},
   "outputs": [],
   "source": [
    "def function():\n",
    "    res = [[0,0],[0,0]]\n",
    "    # Import function to make predictions on images and plot them \n",
    "    from going_modular.going_modular.predictions import pred_and_plot_image\n",
    "    import glob\n",
    "    # Setup custom image path\n",
    "    for directory_path in glob.glob(\"D:/Dataset 2 - Copy/test/*\"):\n",
    "        label = directory_path.split(\"\\\\\")[-1]\n",
    "        for img_path in glob.glob(os.path.join(directory_path,\"*.jpg\")):\n",
    "            temp = pred_and_plot_image(model=pretrained_vit,image_path=img_path,class_names=class_names)\n",
    "            \n",
    "            # benign = 0\n",
    "            #malignant = 1\n",
    "            if label==\"benign\":\n",
    "                if temp == 0:\n",
    "                    res[0][0]+=1\n",
    "                else:\n",
    "                    res[0][1]+=1\n",
    "            else:\n",
    "                if temp==0:\n",
    "                    res[1][0]+=1\n",
    "                else:\n",
    "                    res[1][1]+=1\n",
    "    return res"
   ]
  },
  {
   "cell_type": "code",
   "execution_count": 16,
   "id": "eb7d0f9e",
   "metadata": {},
   "outputs": [],
   "source": [
    "temp = function()"
   ]
  },
  {
   "cell_type": "code",
   "execution_count": 17,
   "id": "5e98d420",
   "metadata": {},
   "outputs": [
    {
     "data": {
      "text/plain": [
       "[[496, 61], [46, 451]]"
      ]
     },
     "execution_count": 17,
     "metadata": {},
     "output_type": "execute_result"
    }
   ],
   "source": [
    "temp"
   ]
  },
  {
   "cell_type": "code",
   "execution_count": 18,
   "id": "c6869212",
   "metadata": {},
   "outputs": [
    {
     "data": {
      "text/plain": [
       "<Axes: >"
      ]
     },
     "execution_count": 18,
     "metadata": {},
     "output_type": "execute_result"
    },
    {
     "data": {
      "image/png": "[encoded data removed]",
      "text/plain": [
       "<Figure size 640x480 with 2 Axes>"
      ]
     },
     "metadata": {},
     "output_type": "display_data"
    }
   ],
   "source": [
    "import seaborn as sns\n",
    "sns.heatmap(temp, annot=True, fmt=\"d\")"
   ]
  },
  {
   "cell_type": "code",
   "execution_count": 19,
   "id": "46abfc14",
   "metadata": {},
   "outputs": [],
   "source": [
    "def metrics(conf_matrix):\n",
    "    temp = dict()\n",
    "    temp[\"Accuracy\"] = (conf_matrix[0][0]+conf_matrix[1][1])/(conf_matrix[0][0]+conf_matrix[0][1]+conf_matrix[1][0]+conf_matrix[1][1])\n",
    "    temp[\"Precision\"] = (conf_matrix[0][0])/(conf_matrix[0][0]+conf_matrix[1][0])\n",
    "    temp[\"Recall\"] = (conf_matrix[0][0])/(conf_matrix[0][0]+conf_matrix[0][1])\n",
    "    temp[\"F1 Score\"] = 2*((temp[\"Precision\"]*temp[\"Recall\"])/(temp[\"Precision\"]+temp[\"Recall\"]))\n",
    "    return temp"
   ]
  },
  {
   "cell_type": "code",
   "execution_count": 20,
   "id": "8b06a620",
   "metadata": {},
   "outputs": [
    {
     "name": "stdout",
     "output_type": "stream",
     "text": [
      "{'Accuracy': 0.8984819734345351, 'Precision': 0.915129151291513, 'Recall': 0.8904847396768402, 'F1 Score': 0.902638762511374}\n"
     ]
    }
   ],
   "source": [
    "print(metrics(temp))"
   ]
  },
  {
   "cell_type": "code",
   "execution_count": null,
   "id": "a1cc2eed",
   "metadata": {},
   "outputs": [],
   "source": []
  }
 ],
 "metadata": {
  "kernelspec": {
   "display_name": "Python 3 (ipykernel)",
   "language": "python",
   "name": "python3"
  },
  "language_info": {
   "codemirror_mode": {
    "name": "ipython",
    "version": 3
   },
   "file_extension": ".py",
   "mimetype": "text/x-python",
   "name": "python",
   "nbconvert_exporter": "python",
   "pygments_lexer": "ipython3",
   "version": "3.9.18"
  }
 },
 "nbformat": 4,
 "nbformat_minor": 5
}
