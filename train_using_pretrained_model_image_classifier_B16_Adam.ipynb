{
 "cells": [
  {
   "cell_type": "code",
   "execution_count": 1,
   "id": "1fb1c10e",
   "metadata": {},
   "outputs": [
    {
     "ename": "ModuleNotFoundError",
     "evalue": "No module named 'helper_functions'",
     "output_type": "error",
     "traceback": [
      "\u001b[1;31m---------------------------------------------------------------------------\u001b[0m",
      "\u001b[1;31mModuleNotFoundError\u001b[0m                       Traceback (most recent call last)",
      "Cell \u001b[1;32mIn[1], line 7\u001b[0m\n\u001b[0;32m      5\u001b[0m \u001b[38;5;28;01mfrom\u001b[39;00m \u001b[38;5;21;01mtorch\u001b[39;00m \u001b[38;5;28;01mimport\u001b[39;00m nn\n\u001b[0;32m      6\u001b[0m \u001b[38;5;28;01mfrom\u001b[39;00m \u001b[38;5;21;01mtorchvision\u001b[39;00m \u001b[38;5;28;01mimport\u001b[39;00m transforms\n\u001b[1;32m----> 7\u001b[0m \u001b[38;5;28;01mfrom\u001b[39;00m \u001b[38;5;21;01mhelper_functions\u001b[39;00m \u001b[38;5;28;01mimport\u001b[39;00m set_seeds\n",
      "\u001b[1;31mModuleNotFoundError\u001b[0m: No module named 'helper_functions'"
     ]
    }
   ],
   "source": [
    "import matplotlib.pyplot as plt\n",
    "import torch\n",
    "import torchvision\n",
    "\n",
    "from torch import nn\n",
    "from torchvision import transforms\n",
    "from helper_functions import set_seeds"
   ]
  },
  {
   "cell_type": "code",
   "execution_count": null,
   "id": "12e97c71",
   "metadata": {},
   "outputs": [],
   "source": [
    "device = \"cuda\" if torch.cuda.is_available() else \"cpu\"\n",
    "device"
   ]
  },
  {
   "cell_type": "code",
   "execution_count": null,
   "id": "0de25b1a",
   "metadata": {},
   "outputs": [],
   "source": [
    "# 1. Get pretrained weights for ViT-Base\n",
    "pretrained_vit_weights = torchvision.models.ViT_B_16_Weights.DEFAULT \n",
    "\n",
    "# 2. Setup a ViT model instance with pretrained weights\n",
    "pretrained_vit = torchvision.models.vit_b_16(weights=pretrained_vit_weights).to(device)\n",
    "\n",
    "# 3. Freeze the base parameters\n",
    "for parameter in pretrained_vit.parameters():\n",
    "    parameter.requires_grad = False\n",
    "    \n",
    "print(pretrained_vit.parameters())\n",
    "\n",
    "# 4. Change the classifier head \n",
    "class_names = ['benign','malignant']\n",
    "\n",
    "set_seeds()\n",
    "pretrained_vit.heads = nn.Linear(in_features=768, out_features=len(class_names)).to(device)\n",
    "# pretrained_vit # uncomment for model output "
   ]
  },
  {
   "cell_type": "code",
   "execution_count": null,
   "id": "e3feaa42",
   "metadata": {},
   "outputs": [],
   "source": [
    "from torchinfo import summary\n",
    "\n",
    "# Print a summary using torchinfo (uncomment for actual output)\n",
    "summary(model=pretrained_vit, \n",
    "        input_size=(32, 3, 224, 224), # (batch_size, color_channels, height, width)\n",
    "        # col_names=[\"input_size\"], # uncomment for smaller output\n",
    "        col_names=[\"input_size\", \"output_size\", \"num_params\", \"trainable\"],\n",
    "        col_width=20,\n",
    "        row_settings=[\"var_names\"]\n",
    ")"
   ]
  },
  {
   "cell_type": "markdown",
   "id": "c73ec300",
   "metadata": {},
   "source": [
    "#### Notice how only the output layer is trainable, where as, all of the rest of the layers are untrainable (frozen)."
   ]
  },
  {
   "cell_type": "code",
   "execution_count": null,
   "id": "ac8cc699",
   "metadata": {},
   "outputs": [],
   "source": [
    "# Setup directory paths to train and test images\n",
    "train_dir = 'D:/Dataset 2 - Copy/train'\n",
    "test_dir = 'D:/Dataset 2 - Copy/test'"
   ]
  },
  {
   "cell_type": "markdown",
   "id": "91175306",
   "metadata": {},
   "source": [
    "Remember, if you're going to use a pretrained model, it's generally important to ensure your own custom data is transformed/formatted in the same way the data the original model was trained on."
   ]
  },
  {
   "cell_type": "code",
   "execution_count": null,
   "id": "05aa777b",
   "metadata": {},
   "outputs": [],
   "source": [
    "# Get automatic transforms from pretrained ViT weights\n",
    "pretrained_vit_transforms = pretrained_vit_weights.transforms()\n",
    "print(pretrained_vit_transforms)"
   ]
  },
  {
   "cell_type": "markdown",
   "id": "088971e6",
   "metadata": {},
   "source": [
    "## And now we've got transforms ready, we can turn our images into DataLoaders using the create_dataloaders()"
   ]
  },
  {
   "cell_type": "code",
   "execution_count": null,
   "id": "5d49225b",
   "metadata": {},
   "outputs": [],
   "source": [
    "import os\n",
    "\n",
    "from torchvision import datasets, transforms\n",
    "from torch.utils.data import DataLoader\n",
    "\n",
    "NUM_WORKERS = os.cpu_count()\n",
    "\n",
    "def create_dataloaders(\n",
    "    train_dir: str, \n",
    "    test_dir: str, \n",
    "    transform: transforms.Compose, \n",
    "    batch_size: int, \n",
    "    num_workers: int=NUM_WORKERS\n",
    "):\n",
    "\n",
    "  # Use ImageFolder to create dataset(s)\n",
    "  train_data = datasets.ImageFolder(train_dir, transform=transform)\n",
    "  test_data = datasets.ImageFolder(test_dir, transform=transform)\n",
    "\n",
    "  # Get class names\n",
    "  class_names = train_data.classes\n",
    "\n",
    "  # Turn images into data loaders\n",
    "  train_dataloader = DataLoader(\n",
    "      train_data,\n",
    "      batch_size=batch_size,\n",
    "      shuffle=True,\n",
    "      num_workers=num_workers,\n",
    "      pin_memory=True,\n",
    "  )\n",
    "  test_dataloader = DataLoader(\n",
    "      test_data,\n",
    "      batch_size=batch_size,\n",
    "      shuffle=False,\n",
    "      num_workers=num_workers,\n",
    "      pin_memory=True,\n",
    "  )\n",
    "\n",
    "  return train_dataloader, test_dataloader, class_names"
   ]
  },
  {
   "cell_type": "code",
   "execution_count": null,
   "id": "9037c8a5",
   "metadata": {},
   "outputs": [],
   "source": [
    "# Setup dataloaders\n",
    "train_dataloader_pretrained, test_dataloader_pretrained, class_names = create_dataloaders(train_dir=train_dir,\n",
    "                                                                                                     test_dir=test_dir,\n",
    "                                                                                                     transform=pretrained_vit_transforms,\n",
    "                                                                                                     batch_size=32) # Could increase if we had more samples, such as here: https://arxiv.org/abs/2205.01580 (there are other improvements there too...)\n"
   ]
  },
  {
   "cell_type": "code",
   "execution_count": null,
   "id": "27a7f0a8",
   "metadata": {},
   "outputs": [],
   "source": [
    "print(train_dataloader_pretrained)\n",
    "print(test_dataloader_pretrained)"
   ]
  },
  {
   "cell_type": "code",
   "execution_count": 2,
   "id": "10c5ba74",
   "metadata": {},
   "outputs": [
    {
     "ename": "ModuleNotFoundError",
     "evalue": "No module named 'going_modular'",
     "output_type": "error",
     "traceback": [
      "\u001b[1;31m---------------------------------------------------------------------------\u001b[0m",
      "\u001b[1;31mModuleNotFoundError\u001b[0m                       Traceback (most recent call last)",
      "Cell \u001b[1;32mIn[2], line 1\u001b[0m\n\u001b[1;32m----> 1\u001b[0m \u001b[38;5;28;01mfrom\u001b[39;00m \u001b[38;5;21;01mgoing_modular\u001b[39;00m\u001b[38;5;21;01m.\u001b[39;00m\u001b[38;5;21;01mgoing_modular\u001b[39;00m \u001b[38;5;28;01mimport\u001b[39;00m engine\n\u001b[0;32m      3\u001b[0m \u001b[38;5;66;03m# Create optimizer and loss function\u001b[39;00m\n\u001b[0;32m      4\u001b[0m optimizer \u001b[38;5;241m=\u001b[39m torch\u001b[38;5;241m.\u001b[39moptim\u001b[38;5;241m.\u001b[39mAdam(params\u001b[38;5;241m=\u001b[39mpretrained_vit\u001b[38;5;241m.\u001b[39mparameters(), lr\u001b[38;5;241m=\u001b[39m\u001b[38;5;241m1e-1\u001b[39m)\n",
      "\u001b[1;31mModuleNotFoundError\u001b[0m: No module named 'going_modular'"
     ]
    }
   ],
   "source": [
    "from going_modular.going_modular import engine\n",
    "\n",
    "# Create optimizer and loss function\n",
    "optimizer = torch.optim.Adam(params=pretrained_vit.parameters(), lr=1e-1)\n",
    "\n",
    "loss_fn = torch.nn.CrossEntropyLoss()\n",
    "\n",
    "# Train the classifier head of the pretrained ViT feature extractor model\n",
    "set_seeds()\n",
    "\n",
    "pretrained_vit_results = engine.train(model=pretrained_vit,\n",
    "                                      train_dataloader=train_dataloader_pretrained,\n",
    "                                      test_dataloader=test_dataloader_pretrained,\n",
    "                                      optimizer=optimizer,\n",
    "                                      loss_fn=loss_fn,\n",
    "                                      epochs=100,\n",
    "                                      device=device)"
   ]
  },
  {
   "cell_type": "markdown",
   "id": "945149b4",
   "metadata": {},
   "source": [
    "pretrained ViT performed far better than our custom ViT model trained from scratch (in the same amount of time).\n"
   ]
  },
  {
   "cell_type": "code",
   "execution_count": 11,
   "id": "2aae16a8",
   "metadata": {},
   "outputs": [
    {
     "data": {
      "image/png": "[encoded data removed]",
      "text/plain": [
       "<Figure size 1500x700 with 2 Axes>"
      ]
     },
     "metadata": {},
     "output_type": "display_data"
    }
   ],
   "source": [
    "\n",
    "for k,v in pretrained_vit_results.items():\n",
    "    if k[-1]==\"s\":\n",
    "        v.insert(0,1)\n",
    "    else:\n",
    "        v.insert(0,0)\n",
    "# Plot the loss curves\n",
    "from helper_functions import plot_loss_curves\n",
    "\n",
    "plot_loss_curves(pretrained_vit_results) "
   ]
  },
  {
   "cell_type": "code",
   "execution_count": 12,
   "id": "067ed41b",
   "metadata": {},
   "outputs": [
    {
     "data": {
      "text/html": [
       "<div>\n",
       "<style scoped>\n",
       "    .dataframe tbody tr th:only-of-type {\n",
       "        vertical-align: middle;\n",
       "    }\n",
       "\n",
       "    .dataframe tbody tr th {\n",
       "        vertical-align: top;\n",
       "    }\n",
       "\n",
       "    .dataframe thead th {\n",
       "        text-align: right;\n",
       "    }\n",
       "</style>\n",
       "<table border=\"1\" class=\"dataframe\">\n",
       "  <thead>\n",
       "    <tr style=\"text-align: right;\">\n",
       "      <th></th>\n",
       "      <th>train_loss</th>\n",
       "      <th>train_acc</th>\n",
       "      <th>test_loss</th>\n",
       "      <th>test_acc</th>\n",
       "    </tr>\n",
       "  </thead>\n",
       "  <tbody>\n",
       "    <tr>\n",
       "      <th>0</th>\n",
       "      <td>1.000000</td>\n",
       "      <td>0.000000</td>\n",
       "      <td>1.000000</td>\n",
       "      <td>0.000000</td>\n",
       "    </tr>\n",
       "    <tr>\n",
       "      <th>1</th>\n",
       "      <td>3.326621</td>\n",
       "      <td>0.799699</td>\n",
       "      <td>3.343295</td>\n",
       "      <td>0.748106</td>\n",
       "    </tr>\n",
       "    <tr>\n",
       "      <th>2</th>\n",
       "      <td>1.968256</td>\n",
       "      <td>0.824403</td>\n",
       "      <td>1.193303</td>\n",
       "      <td>0.889015</td>\n",
       "    </tr>\n",
       "    <tr>\n",
       "      <th>3</th>\n",
       "      <td>1.802156</td>\n",
       "      <td>0.842649</td>\n",
       "      <td>1.069655</td>\n",
       "      <td>0.904040</td>\n",
       "    </tr>\n",
       "    <tr>\n",
       "      <th>4</th>\n",
       "      <td>1.331929</td>\n",
       "      <td>0.865414</td>\n",
       "      <td>1.516933</td>\n",
       "      <td>0.837184</td>\n",
       "    </tr>\n",
       "    <tr>\n",
       "      <th>5</th>\n",
       "      <td>1.902997</td>\n",
       "      <td>0.842099</td>\n",
       "      <td>1.614606</td>\n",
       "      <td>0.869192</td>\n",
       "    </tr>\n",
       "    <tr>\n",
       "      <th>6</th>\n",
       "      <td>1.591655</td>\n",
       "      <td>0.867499</td>\n",
       "      <td>1.199957</td>\n",
       "      <td>0.884217</td>\n",
       "    </tr>\n",
       "    <tr>\n",
       "      <th>7</th>\n",
       "      <td>1.918785</td>\n",
       "      <td>0.863908</td>\n",
       "      <td>2.097986</td>\n",
       "      <td>0.853346</td>\n",
       "    </tr>\n",
       "    <tr>\n",
       "      <th>8</th>\n",
       "      <td>1.490140</td>\n",
       "      <td>0.866746</td>\n",
       "      <td>2.113820</td>\n",
       "      <td>0.851389</td>\n",
       "    </tr>\n",
       "    <tr>\n",
       "      <th>9</th>\n",
       "      <td>1.324106</td>\n",
       "      <td>0.879547</td>\n",
       "      <td>1.556644</td>\n",
       "      <td>0.875189</td>\n",
       "    </tr>\n",
       "    <tr>\n",
       "      <th>10</th>\n",
       "      <td>2.118691</td>\n",
       "      <td>0.866746</td>\n",
       "      <td>1.387751</td>\n",
       "      <td>0.897222</td>\n",
       "    </tr>\n",
       "    <tr>\n",
       "      <th>11</th>\n",
       "      <td>1.242876</td>\n",
       "      <td>0.894260</td>\n",
       "      <td>3.298181</td>\n",
       "      <td>0.839962</td>\n",
       "    </tr>\n",
       "    <tr>\n",
       "      <th>12</th>\n",
       "      <td>2.242900</td>\n",
       "      <td>0.867296</td>\n",
       "      <td>4.987648</td>\n",
       "      <td>0.789773</td>\n",
       "    </tr>\n",
       "    <tr>\n",
       "      <th>13</th>\n",
       "      <td>1.929637</td>\n",
       "      <td>0.875405</td>\n",
       "      <td>1.590390</td>\n",
       "      <td>0.895581</td>\n",
       "    </tr>\n",
       "    <tr>\n",
       "      <th>14</th>\n",
       "      <td>1.335679</td>\n",
       "      <td>0.889133</td>\n",
       "      <td>1.302483</td>\n",
       "      <td>0.917551</td>\n",
       "    </tr>\n",
       "    <tr>\n",
       "      <th>15</th>\n",
       "      <td>1.231170</td>\n",
       "      <td>0.898372</td>\n",
       "      <td>1.608149</td>\n",
       "      <td>0.886806</td>\n",
       "    </tr>\n",
       "    <tr>\n",
       "      <th>16</th>\n",
       "      <td>1.049776</td>\n",
       "      <td>0.903643</td>\n",
       "      <td>1.524184</td>\n",
       "      <td>0.894823</td>\n",
       "    </tr>\n",
       "    <tr>\n",
       "      <th>17</th>\n",
       "      <td>1.544392</td>\n",
       "      <td>0.876738</td>\n",
       "      <td>2.395872</td>\n",
       "      <td>0.869318</td>\n",
       "    </tr>\n",
       "    <tr>\n",
       "      <th>18</th>\n",
       "      <td>1.625873</td>\n",
       "      <td>0.886701</td>\n",
       "      <td>2.241900</td>\n",
       "      <td>0.877462</td>\n",
       "    </tr>\n",
       "    <tr>\n",
       "      <th>19</th>\n",
       "      <td>1.203031</td>\n",
       "      <td>0.905526</td>\n",
       "      <td>1.768533</td>\n",
       "      <td>0.886301</td>\n",
       "    </tr>\n",
       "    <tr>\n",
       "      <th>20</th>\n",
       "      <td>1.452532</td>\n",
       "      <td>0.894028</td>\n",
       "      <td>1.531254</td>\n",
       "      <td>0.909912</td>\n",
       "    </tr>\n",
       "    <tr>\n",
       "      <th>21</th>\n",
       "      <td>0.858609</td>\n",
       "      <td>0.912853</td>\n",
       "      <td>1.815113</td>\n",
       "      <td>0.895833</td>\n",
       "    </tr>\n",
       "    <tr>\n",
       "      <th>22</th>\n",
       "      <td>1.042203</td>\n",
       "      <td>0.906250</td>\n",
       "      <td>1.572863</td>\n",
       "      <td>0.891604</td>\n",
       "    </tr>\n",
       "    <tr>\n",
       "      <th>23</th>\n",
       "      <td>0.973034</td>\n",
       "      <td>0.904396</td>\n",
       "      <td>1.604542</td>\n",
       "      <td>0.900126</td>\n",
       "    </tr>\n",
       "    <tr>\n",
       "      <th>24</th>\n",
       "      <td>1.126464</td>\n",
       "      <td>0.907785</td>\n",
       "      <td>1.987534</td>\n",
       "      <td>0.891035</td>\n",
       "    </tr>\n",
       "    <tr>\n",
       "      <th>25</th>\n",
       "      <td>0.925646</td>\n",
       "      <td>0.914359</td>\n",
       "      <td>1.592245</td>\n",
       "      <td>0.900316</td>\n",
       "    </tr>\n",
       "  </tbody>\n",
       "</table>\n",
       "</div>"
      ],
      "text/plain": [
       "    train_loss  train_acc  test_loss  test_acc\n",
       "0     1.000000   0.000000   1.000000  0.000000\n",
       "1     3.326621   0.799699   3.343295  0.748106\n",
       "2     1.968256   0.824403   1.193303  0.889015\n",
       "3     1.802156   0.842649   1.069655  0.904040\n",
       "4     1.331929   0.865414   1.516933  0.837184\n",
       "5     1.902997   0.842099   1.614606  0.869192\n",
       "6     1.591655   0.867499   1.199957  0.884217\n",
       "7     1.918785   0.863908   2.097986  0.853346\n",
       "8     1.490140   0.866746   2.113820  0.851389\n",
       "9     1.324106   0.879547   1.556644  0.875189\n",
       "10    2.118691   0.866746   1.387751  0.897222\n",
       "11    1.242876   0.894260   3.298181  0.839962\n",
       "12    2.242900   0.867296   4.987648  0.789773\n",
       "13    1.929637   0.875405   1.590390  0.895581\n",
       "14    1.335679   0.889133   1.302483  0.917551\n",
       "15    1.231170   0.898372   1.608149  0.886806\n",
       "16    1.049776   0.903643   1.524184  0.894823\n",
       "17    1.544392   0.876738   2.395872  0.869318\n",
       "18    1.625873   0.886701   2.241900  0.877462\n",
       "19    1.203031   0.905526   1.768533  0.886301\n",
       "20    1.452532   0.894028   1.531254  0.909912\n",
       "21    0.858609   0.912853   1.815113  0.895833\n",
       "22    1.042203   0.906250   1.572863  0.891604\n",
       "23    0.973034   0.904396   1.604542  0.900126\n",
       "24    1.126464   0.907785   1.987534  0.891035\n",
       "25    0.925646   0.914359   1.592245  0.900316"
      ]
     },
     "metadata": {},
     "output_type": "display_data"
    }
   ],
   "source": [
    "import pandas\n",
    "dataframe = pandas.DataFrame(pretrained_vit_results)\n",
    "display(dataframe)\n",
    "dataframe.to_csv(\"B16_25epochs_Adagrad.csv\")"
   ]
  },
  {
   "cell_type": "markdown",
   "id": "79922fd1",
   "metadata": {},
   "source": [
    "## That's the power of transfer learning!\n",
    "\n",
    "We managed to get outstanding results with the same model architecture, except our custom implementation was trained from scratch (worse performance) and this feature extractor model has the power of pretrained weights from ImageNet behind it."
   ]
  },
  {
   "cell_type": "markdown",
   "id": "6ce4427b",
   "metadata": {},
   "source": [
    "# Let's make Prediction:"
   ]
  },
  {
   "cell_type": "code",
   "execution_count": 13,
   "id": "fe89b4e9",
   "metadata": {},
   "outputs": [
    {
     "name": "stdout",
     "output_type": "stream",
     "text": [
      "tensor([1], device='cuda:0')\n"
     ]
    }
   ],
   "source": [
    "import requests\n",
    "\n",
    "# Import function to make predictions on images and plot them \n",
    "from going_modular.going_modular.predictions import pred_and_plot_image\n",
    "\n",
    "# Setup custom image path\n",
    "custom_image_path = \"D:/Dataset 2/test/benign/2.jpg\"\n",
    "\n",
    "# Predict on custom image\n",
    "temp = pred_and_plot_image(model=pretrained_vit,\n",
    "                    image_path=custom_image_path,\n",
    "                    class_names=class_names)\n",
    "\n",
    "print(temp)"
   ]
  },
  {
   "cell_type": "code",
   "execution_count": 14,
   "id": "1fcf116a",
   "metadata": {},
   "outputs": [],
   "source": [
    "if temp[0]==0:\n",
    "    print(\"HELLO\")"
   ]
  },
  {
   "cell_type": "code",
   "execution_count": 15,
   "id": "5e7d64d0",
   "metadata": {},
   "outputs": [],
   "source": [
    "def function():\n",
    "    res = [[0,0],[0,0]]\n",
    "    # Import function to make predictions on images and plot them \n",
    "    from going_modular.going_modular.predictions import pred_and_plot_image\n",
    "    import glob\n",
    "    # Setup custom image path\n",
    "    for directory_path in glob.glob(\"D:/Dataset 2 - Copy/test/*\"):\n",
    "        label = directory_path.split(\"\\\\\")[-1]\n",
    "        for img_path in glob.glob(os.path.join(directory_path,\"*.jpg\")):\n",
    "            temp = pred_and_plot_image(model=pretrained_vit,image_path=img_path,class_names=class_names)\n",
    "            \n",
    "            # benign = 0\n",
    "            #malignant = 1\n",
    "            if label==\"benign\":\n",
    "                if temp == 0:\n",
    "                    res[0][0]+=1\n",
    "                else:\n",
    "                    res[0][1]+=1\n",
    "            else:\n",
    "                if temp==0:\n",
    "                    res[1][0]+=1\n",
    "                else:\n",
    "                    res[1][1]+=1\n",
    "    return res"
   ]
  },
  {
   "cell_type": "code",
   "execution_count": 16,
   "id": "eb7d0f9e",
   "metadata": {},
   "outputs": [],
   "source": [
    "temp = function()"
   ]
  },
  {
   "cell_type": "code",
   "execution_count": 17,
   "id": "5e98d420",
   "metadata": {},
   "outputs": [
    {
     "data": {
      "text/plain": [
       "[[495, 62], [53, 444]]"
      ]
     },
     "execution_count": 17,
     "metadata": {},
     "output_type": "execute_result"
    }
   ],
   "source": [
    "temp"
   ]
  },
  {
   "cell_type": "code",
   "execution_count": 18,
   "id": "c6869212",
   "metadata": {},
   "outputs": [
    {
     "data": {
      "text/plain": [
       "<Axes: >"
      ]
     },
     "execution_count": 18,
     "metadata": {},
     "output_type": "execute_result"
    },
    {
     "data": {
      "image/png": "[encoded data removed]",
      "text/plain": [
       "<Figure size 640x480 with 2 Axes>"
      ]
     },
     "metadata": {},
     "output_type": "display_data"
    }
   ],
   "source": [
    "import seaborn as sns\n",
    "sns.heatmap(temp, annot=True, fmt=\"d\")"
   ]
  },
  {
   "cell_type": "code",
   "execution_count": 19,
   "id": "46abfc14",
   "metadata": {},
   "outputs": [],
   "source": [
    "def metrics(conf_matrix):\n",
    "    temp = dict()\n",
    "    temp[\"Accuracy\"] = (conf_matrix[0][0]+conf_matrix[1][1])/(conf_matrix[0][0]+conf_matrix[0][1]+conf_matrix[1][0]+conf_matrix[1][1])\n",
    "    temp[\"Precision\"] = (conf_matrix[0][0])/(conf_matrix[0][0]+conf_matrix[1][0])\n",
    "    temp[\"Recall\"] = (conf_matrix[0][0])/(conf_matrix[0][0]+conf_matrix[0][1])\n",
    "    temp[\"F1 Score\"] = 2*((temp[\"Precision\"]*temp[\"Recall\"])/(temp[\"Precision\"]+temp[\"Recall\"]))\n",
    "    return temp"
   ]
  },
  {
   "cell_type": "code",
   "execution_count": 20,
   "id": "8b06a620",
   "metadata": {},
   "outputs": [
    {
     "name": "stdout",
     "output_type": "stream",
     "text": [
      "{'Accuracy': 0.8908918406072106, 'Precision': 0.9032846715328468, 'Recall': 0.8886894075403949, 'F1 Score': 0.8959276018099547}\n"
     ]
    }
   ],
   "source": [
    "print(metrics(temp))"
   ]
  },
  {
   "cell_type": "code",
   "execution_count": null,
   "id": "a1cc2eed",
   "metadata": {},
   "outputs": [],
   "source": []
  }
 ],
 "metadata": {
  "kernelspec": {
   "display_name": "Python 3 (ipykernel)",
   "language": "python",
   "name": "python3"
  },
  "language_info": {
   "codemirror_mode": {
    "name": "ipython",
    "version": 3
   },
   "file_extension": ".py",
   "mimetype": "text/x-python",
   "name": "python",
   "nbconvert_exporter": "python",
   "pygments_lexer": "ipython3",
   "version": "3.9.18"
  }
 },
 "nbformat": 4,
 "nbformat_minor": 5
}
